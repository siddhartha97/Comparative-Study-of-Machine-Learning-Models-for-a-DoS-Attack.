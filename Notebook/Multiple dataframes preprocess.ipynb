{
 "cells": [
  {
   "cell_type": "code",
   "execution_count": 21,
   "metadata": {
    "collapsed": true
   },
   "outputs": [],
   "source": [
    "import warnings\n",
    "import numpy as np\n",
    "import pandas as pd\n",
    "import seaborn as sns\n",
    "import matplotlib.pyplot as plt\n",
    "warnings.filterwarnings(\"ignore\")\n",
    "%matplotlib inline"
   ]
  },
  {
   "cell_type": "code",
   "execution_count": 22,
   "metadata": {
    "collapsed": false
   },
   "outputs": [],
   "source": [
    "df1 = pd.read_csv('dos0.1,10.txt',delim_whitespace=True,header=None)\n",
    "df2 = pd.read_csv('dos0.1,11.txt',delim_whitespace=True,header=None)\n",
    "df3 = pd.read_csv('dos0.1,2.txt',delim_whitespace=True,header=None)\n",
    "df4 = pd.read_csv('dos0.1,4.txt',delim_whitespace=True,header=None)\n",
    "df5 = pd.read_csv('dos0.1,6.txt',delim_whitespace=True,header=None)\n",
    "df6 = pd.read_csv('dos0.1,8.txt',delim_whitespace=True,header=None)\n",
    "df7 = pd.read_csv('dos1,10.txt',delim_whitespace=True,header=None)\n",
    "df8 = pd.read_csv('dos1,11.txt',delim_whitespace=True,header=None)\n",
    "df9 = pd.read_csv('dos1,2.txt',delim_whitespace=True,header=None)\n",
    "df10 = pd.read_csv('dos1,4.txt',delim_whitespace=True,header=None)\n",
    "df11 = pd.read_csv('dos1,6.txt',delim_whitespace=True,header=None)\n",
    "df12 = pd.read_csv('dos1,8.txt',delim_whitespace=True,header=None)\n",
    "df13 = pd.read_csv('dos10,10.txt',delim_whitespace=True,header=None)\n",
    "df14 = pd.read_csv('dos10,11.txt',delim_whitespace=True,header=None)\n",
    "df15 = pd.read_csv('dos10,2.txt',delim_whitespace=True,header=None)\n",
    "df16 = pd.read_csv('dos10,4.txt',delim_whitespace=True,header=None)\n",
    "df17 = pd.read_csv('dos10,6.txt',delim_whitespace=True,header=None)\n",
    "df18 = pd.read_csv('dos10,8.txt',delim_whitespace=True,header=None)"
   ]
  },
  {
   "cell_type": "code",
   "execution_count": 23,
   "metadata": {
    "collapsed": false
   },
   "outputs": [],
   "source": [
    "df1.columns = ['info','time','node','dropped','rts_check','from','to']\n",
    "df2.columns = ['info','time','node','dropped','rts_check','from','to']\n",
    "df3.columns = ['info','time','node','dropped','rts_check','from','to']\n",
    "df4.columns = ['info','time','node','dropped','rts_check','from','to']\n",
    "df5.columns = ['info','time','node','dropped','rts_check','from','to']\n",
    "df6.columns = ['info','time','node','dropped','rts_check','from','to']\n",
    "df7.columns = ['info','time','node','dropped','rts_check','from','to']\n",
    "df8.columns = ['info','time','node','dropped','rts_check','from','to']\n",
    "df9.columns = ['info','time','node','dropped','rts_check','from','to']\n",
    "df10.columns = ['info','time','node','dropped','rts_check','from','to']\n",
    "df11.columns = ['info','time','node','dropped','rts_check','from','to']\n",
    "df12.columns = ['info','time','node','dropped','rts_check','from','to']\n",
    "df13.columns = ['info','time','node','dropped','rts_check','from','to']\n",
    "df14.columns = ['info','time','node','dropped','rts_check','from','to']\n",
    "df15.columns = ['info','time','node','dropped','rts_check','from','to']\n",
    "df16.columns = ['info','time','node','dropped','rts_check','from','to']\n",
    "df17.columns = ['info','time','node','dropped','rts_check','from','to']\n",
    "df18.columns = ['info','time','node','dropped','rts_check','from','to']"
   ]
  },
  {
   "cell_type": "code",
   "execution_count": 24,
   "metadata": {
    "collapsed": false
   },
   "outputs": [],
   "source": [
    "#Do Some stuff"
   ]
  },
  {
   "cell_type": "code",
   "execution_count": 25,
   "metadata": {
    "collapsed": false
   },
   "outputs": [],
   "source": [
    "df1.to_csv('d1.csv')\n",
    "df2.to_csv('d2.csv')\n",
    "df3.to_csv('d3.csv')\n",
    "df4.to_csv('d4.csv')\n",
    "df5.to_csv('d5.csv')\n",
    "df6.to_csv('d6.csv')\n",
    "df7.to_csv('d7.csv')\n",
    "df8.to_csv('d8.csv')\n",
    "df9.to_csv('d9.csv')\n",
    "df10.to_csv('d10.csv')\n",
    "df11.to_csv('d11.csv')\n",
    "df12.to_csv('d12.csv')\n",
    "df13.to_csv('d13.csv')\n",
    "df14.to_csv('d14.csv')\n",
    "df15.to_csv('d15.csv')\n",
    "df16.to_csv('d16.csv')\n",
    "df17.to_csv('d17.csv')\n",
    "df18.to_csv('d18.csv')"
   ]
  },
  {
   "cell_type": "code",
   "execution_count": null,
   "metadata": {
    "collapsed": true
   },
   "outputs": [],
   "source": []
  }
 ],
 "metadata": {
  "anaconda-cloud": {},
  "kernelspec": {
   "display_name": "Python 2",
   "language": "python",
   "name": "python2"
  },
  "language_info": {
   "codemirror_mode": {
    "name": "ipython",
    "version": 2
   },
   "file_extension": ".py",
   "mimetype": "text/x-python",
   "name": "python",
   "nbconvert_exporter": "python",
   "pygments_lexer": "ipython2",
   "version": "2.7.13"
  }
 },
 "nbformat": 4,
 "nbformat_minor": 2
}
