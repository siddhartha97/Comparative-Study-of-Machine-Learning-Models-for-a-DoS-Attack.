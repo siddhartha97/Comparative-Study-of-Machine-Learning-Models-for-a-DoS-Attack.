{
 "cells": [
  {
   "cell_type": "code",
   "execution_count": 38,
   "metadata": {},
   "outputs": [],
   "source": [
    "import pandas as pd\n",
    "import warnings\n",
    "warnings.filterwarnings('ignore')\n",
    "\n",
    "data = pd.read_csv('./d1.csv',index_col=0)\n",
    "filter_by_col = data[data['dropped']=='COL'].groupby('node')\n",
    "time = filter_by_col['time'].max() - filter_by_col['time'].min()\n",
    "collision_rate = filter_by_col.size()/time\n",
    "collision_rate = pd.DataFrame(collision_rate,columns=['Collision_rate'])\n",
    "collision_rate[time == 0] = 0\n",
    "collision_rate.fillna(0)\n",
    "\n",
    "collision_rate = collision_rate.ix[0:,:]\n",
    "#collision_rate.to_csv('c1.csv')\n",
    "\n",
    "df = data \n",
    "\n",
    "df[df[\"rts_check\"] == \"RTS\"]\n",
    "received = df[df[\"rts_check\"] == 'RTS']\n",
    "received = received[['time','node']]\n",
    "group_node = df.groupby('node')\n",
    "\n",
    "received_packets = group_node.size()\n",
    "time = group_node['time'].max() - group_node['time'].min()\n",
    "received_rate = received_packets/time\n",
    "received_rate[time == 0] = 0\n",
    "received_rate.fillna(0)\n",
    "\n",
    "received_rate = pd.DataFrame(received_rate)\n",
    "received_rate = received_rate.rename(columns = {0:'Received Rate'})\n",
    "received_rate = received_rate.ix[0:,:]\n",
    "#received_rate.to_csv('r1.csv')\n",
    "\n",
    "data = df\n",
    "\n",
    "# calculate probability\n",
    "\n",
    "\n",
    "df1 = pd.DataFrame(data)\n",
    "df1['dos'] = 0\n",
    "df1.loc[df1['from']==1,'dos'] = 1\n",
    "proba = pd.DataFrame(df1.groupby('node')['dos'].mean())\n",
    "proba = proba.ix[0:,:]\n",
    "proba.columns = [\"Probability\"]\n",
    "#df2.to_csv('p1.csv')"
   ]
  },
  {
   "cell_type": "code",
   "execution_count": 39,
   "metadata": {},
   "outputs": [],
   "source": [
    "df1 = collision_rate\n",
    "df2 = received_rate\n",
    "df3 = proba"
   ]
  },
  {
   "cell_type": "code",
   "execution_count": 41,
   "metadata": {},
   "outputs": [],
   "source": [
    "df = pd.concat([df1,df2,df3],axis = 1)\n",
    "\n",
    "df.drop(1,inplace=True)\n",
    "df.to_csv('fd1.csv')"
   ]
  },
  {
   "cell_type": "code",
   "execution_count": null,
   "metadata": {},
   "outputs": [],
   "source": []
  },
  {
   "cell_type": "code",
   "execution_count": null,
   "metadata": {},
   "outputs": [],
   "source": []
  }
 ],
 "metadata": {
  "kernelspec": {
   "display_name": "Python 2",
   "language": "python",
   "name": "python2"
  },
  "language_info": {
   "codemirror_mode": {
    "name": "ipython",
    "version": 2
   },
   "file_extension": ".py",
   "mimetype": "text/x-python",
   "name": "python",
   "nbconvert_exporter": "python",
   "pygments_lexer": "ipython2",
   "version": "2.7.12"
  }
 },
 "nbformat": 4,
 "nbformat_minor": 2
}
